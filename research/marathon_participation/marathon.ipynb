{
 "cells": [
  {
   "cell_type": "code",
   "execution_count": 29,
   "metadata": {},
   "outputs": [],
   "source": [
    "import requests\n",
    "import pandas as pd\n",
    "from bs4 import BeautifulSoup\n"
   ]
  },
  {
   "cell_type": "code",
   "execution_count": 30,
   "metadata": {},
   "outputs": [],
   "source": [
    "marathon_counts = []\n",
    "\n",
    "results_response = requests.get(\"https://www.marathonguide.com/results/\")\n",
    "results_html = results_response.content.decode(\"utf-8\")\n",
    "results_html_parsed = BeautifulSoup(results_html)\n",
    "\n",
    "for year in range(2005,2023):\n",
    "    result_row = results_html_parsed.body.find('a', attrs={'href': f'browse.cfm?Year={year}'})\n",
    "    raw_count = result_row.next.next\n",
    "    clean_count = raw_count.replace(\" (all \", \"\").replace(\")\", \"\")\n",
    "\n",
    "    year_count = {\n",
    "        \"year\": year,\n",
    "        \"marathon_count\": clean_count\n",
    "    }\n",
    "    \n",
    "    marathon_counts.append(year_count)\n",
    "\n",
    "marathon_count_df = pd.DataFrame(marathon_counts)\n",
    "\n",
    "marathon_count_df.to_csv(\"output/marathon_counts.csv\")\n"
   ]
  },
  {
   "cell_type": "code",
   "execution_count": null,
   "metadata": {},
   "outputs": [],
   "source": []
  },
  {
   "cell_type": "code",
   "execution_count": 15,
   "metadata": {},
   "outputs": [
    {
     "data": {
      "text/plain": [
       "' (all 420)'"
      ]
     },
     "execution_count": 15,
     "metadata": {},
     "output_type": "execute_result"
    }
   ],
   "source": [
    "test = requests.get(\"https://www.marathonguide.com/results/\")\n",
    "html = test.content.decode(\"utf-8\")\n",
    "parsed_html = BeautifulSoup(html)\n",
    "data = parsed_html.body.find('a', attrs={'href':'browse.cfm?Year=2005'})\n",
    "\n",
    "data.next.next\n"
   ]
  },
  {
   "cell_type": "code",
   "execution_count": 10,
   "metadata": {},
   "outputs": [
    {
     "data": {
      "text/plain": [
       "[    0   1                     2\n",
       " 0 NaN NaN  Contact Us  Site Map,\n",
       "                                                    0  \\\n",
       " 0                                                NaN   \n",
       " 1  Home  | Marathon Info & Results  | News/Articl...   \n",
       " \n",
       "                                                    1         2  \n",
       " 0  Marathon Results Marathon Results  Here you wi...  Some Ads  \n",
       " 1  Home  | Marathon Info & Results  | News/Articl...  Some Ads  ,\n",
       "                   0\n",
       " 0  Marathon Results,\n",
       "                                                    0\n",
       " 0                                   Marathon Results\n",
       " 1  Here you will find the largest database of Mar...,\n",
       "                                                    0\n",
       " 0  Here you will find the largest database of Mar...,\n",
       "                                                    0\n",
       " 0  Here you will find the largest database of Mar...,\n",
       "                                                    0  \\\n",
       " 0  Here you will find the largest database of Mar...   \n",
       " 1  Latest 2023 Marathon Results: (most recent 15)...   \n",
       " 2  If you are a marathon race director, please be...   \n",
       " \n",
       "                                                    1  \n",
       " 0  Here you will find the largest database of Mar...  \n",
       " 1  Search or Browse All Marathon Results:All of t...  \n",
       " 2  If you are a marathon race director, please be...  ,\n",
       "           0\n",
       " 0  Some Ads]"
      ]
     },
     "execution_count": 10,
     "metadata": {},
     "output_type": "execute_result"
    }
   ],
   "source": [
    "page_one_df = pd.read_html(\"https://www.marathonguide.com/results/\")\n",
    "page_one_df"
   ]
  },
  {
   "cell_type": "code",
   "execution_count": 9,
   "metadata": {},
   "outputs": [
    {
     "data": {
      "text/plain": [
       "'Marathon Results - By Date:  Last Chance Marathon (WA - 12/31/05) \\tChristmas Marathon (WA - 12/18/05) \\tJacksonville Marathon (FL - 12/18/05) \\tDallas White Rock Marathon (TX - 12/11/05) \\tHonolulu Marathon (HI - 12/11/05) \\tOtter Creek Trail Marathon (KY - 12/11/05) \\tKiawah Island Marathon (SC - 12/10/05) \\tRocket City Marathon (AL - 12/10/05) \\tRoxbury Marathon (CT - 12/10/05) \\tCalifornia International Marathon (CA - 12/4/05) \\tLas Vegas Marathon (NV - 12/4/05) \\tLuton Marathon ( - 12/4/05) \\tMarathon of the Palm Beaches (FL - 12/4/05) \\tRun Barbados Festival Marathon ( - 12/4/05) \\tTucson Marathon (AZ - 12/4/05) \\tBaton Rouge Beach Marathon (LA - 12/3/05) \\tCharlotte\\'s Thunder Road Marathon (NC - 12/3/05) \\tDeath Valley Borax Marathon (CA - 12/3/05) \\tMemphis Marathon (TN - 12/3/05) \\tReggae Marathon ( - 12/3/05) \\tTecumseh Trail Marathon (IN - 12/3/05) \\tSeattle Marathon (WA - 11/27/05) \\tSpace Coast Marathon (FL - 11/27/05) \\tMississippi Coast Marathon (MS - 11/26/05) \\tNorth Central Trail Marathon (MD - 11/26/05) \\tAtlanta Marathon (GA - 11/24/05) \\tGobbler Grind Marathon (KS - 11/20/05) \\tPhiladelphia Marathon (PA - 11/20/05) \\tOklahoma Marathon (OK - 11/19/05) \\tValley of Fire Marathon (NV - 11/19/05) \\tX-Country Marathon (FL - 11/19/05) \\tHarrisburg Marathon (PA - 11/13/05) \\tMarshall University Marathon (WV - 11/13/05) \\tRock Creek Park Marathon and Relay (MD - 11/13/05) \\tSan Antonio Marathon-Marathon of the Americas (TX - 11/13/05) \\tChickamauga Battlefield Marathon (GA - 11/12/05) \\tRichmond Marathon (VA - 11/12/05) \\tStone Cat Marathon and 50 Mile Trail Races (MA - 11/12/05) \\tWhite River Marathon for Kenya (prev Mountain Home Marathon for Kenya) (AR - 11/12/05) \\tCity of Trees Marathon (ID - 11/6/05) \\tNew York City Marathon (NY - 11/6/05) \\tSanta Clarita Marathon (CA - 11/6/05) \\tMidsouth Marathon (AR - 11/5/05) \\tStinson Beach Marathon (CA - 11/5/05) \\tWoodside Sequoia Trail Marathon (CA - 11/5/05) \\tDublin Marathon ( - 10/31/05) \\tAuckland Marathon ( - 10/30/05) \\tCape Cod Marathon (MA - 10/30/05) \\tGrand Rapids Marathon (MI - 10/30/05) \\tHallow\\'s Eve Trail Marathon (BC - 10/30/05) \\tMarine Corps Marathon (DC - 10/30/05) \\tSilicon Valley Marathon (CA - 10/30/05) \\tSnowdonia Marathon ( - 10/30/05) \\tSpinx Run Fest (SC - 10/30/05) \\tTri-Cities Marathon (WA - 10/30/05) \\tBlue Springs Trail Marathon (MO - 10/23/05) \\tDetroit Free Press International Marathon (MI - 10/23/05) \\tDuke City Marathon (NM - 10/23/05) \\tKennebecasis Challenge Marathon (NB - 10/23/05) \\tMiracle Match Marathon (TX - 10/23/05) \\tMystic Places Marathon (CT - 10/23/05) \\tNiagara Falls International Marathon (ON - 10/23/05) \\tNike 26.2 = Nike Women\\'s Marathon (CA - 10/23/05) \\tOn the Road for Education (IA - 10/23/05) \\tBreakers Marathon (RI - 10/22/05) \\tHalloween Marathon (WA - 10/22/05) \\tNapa Valley Wine Country Trail Marathon (CA - 10/22/05) \\tOld Mulkey Marathon (KY - 10/22/05) \\tAtlantic City Marathon (NJ - 10/16/05) \\tBay State Marathon (MA - 10/16/05) \\tColumbus Marathon (OH - 10/16/05) \\tHumboldt Redwoods Marathon (CA - 10/16/05) \\tLong Beach International City Marathon (CA - 10/16/05) \\tLouisville Marathon (KY - 10/16/05) \\tMount Desert Island marathon (ME - 10/16/05) \\tPrince Edward Island Marathon (PE - 10/16/05) \\tSpokane Series Marathon (WA - 10/16/05) \\tToronto Marathon (ON - 10/16/05) \\tWairarapa Country Marathon ( - 10/16/05) \\tWichita Marathon (KS - 10/16/05) \\tBaltimore Marathon (MD - 10/15/05) \\tGolden Hills Trail Marathon (CA - 10/15/05) \\tGreen Mountain Marathon (VT - 10/15/05) \\tIndianapolis Marathon (IN - 10/15/05) \\tMarathon 2 Marathon (TX - 10/15/05) \\tSiouxland Lewis & Clark Marathon (IA) (IA - 10/15/05) \\tSpringfield Marathon (MO - 10/15/05) \\tWhistleStop Marathon (WI - 10/15/05) \\tBizz Johnson Trail Marathon (CA - 10/9/05) \\tCardiff Marathon ( - 10/9/05) \\tChicago Marathon (IL - 10/9/05) \\tDurango Marathon (CO - 10/9/05) \\tJust Around \"the\" Bend Marathon (OR - 10/9/05) \\tMelbourne Marathon ( - 10/9/05) \\tMohawk-Hudson River Marathon (NY - 10/9/05) \\tMt. Rushmore Marathon (SD - 10/9/05) \\tOkanagan Marathon (BC - 10/9/05) \\tOttawa Fall Colours Marathon (ON - 10/9/05) \\tPortland Marathon (OR - 10/9/05) \\tSteamtown Marathon (PA - 10/9/05) \\tTowpath Marathon (OH - 10/9/05) \\tValley Harvest Marathon (NS - 10/9/05) \\tVictoria Marathon (BC - 10/9/05) \\tWestchester Marathon (NY - 10/9/05) \\tHartford Marathon (CT - 10/8/05) \\tLake Tahoe Marathon (CA - 10/8/05) \\tClarendon Way Marathon ( - 10/2/05) \\tJohnstown Marathon (PA - 10/2/05) \\tLakefront Marathon (WI - 10/2/05) \\tLeicester Marathon ( - 10/2/05) \\tMaine Marathon (ME - 10/2/05) \\tMarathon de Rimouski (QC - 10/2/05) \\tSacramento CowTown Marathon (CA - 10/2/05) \\tthe county marathon (ON - 10/2/05) \\tTwin Cities Marathon (MN - 10/2/05) \\tWineglass Marathon (NY - 10/2/05) \\tAkron Marathon (OH - 10/1/05) \\tAuburn Marathon (CA - 10/1/05) \\tBig Sur Trail Marathon (CA - 10/1/05) \\tLeavenworth Oktoberfest Marathon (WA - 10/1/05) \\tNew Hampshire Marathon (NH - 10/1/05) \\tSt. George Marathon (UT - 10/1/05) \\tAdirondack Marathon (NY - 9/25/05) \\tBoulder Backroads Marathon (CO - 9/25/05) \\tClarence Demar Marathon (NH - 9/25/05) \\tFox Cities Marathon (WI - 9/25/05) \\tLewis and Clark Marathon (MT) (MT - 9/25/05) \\tOmaha Marathon (NE - 9/25/05) \\tQuad Cities Marathon (IL - 9/25/05) \\tSan Pablo Bay Trail Run (CA - 9/25/05) \\tToronto Waterfront Marathon (ON - 9/25/05) \\tKansas City Marathon (MO - 9/24/05) \\tDes Moines Marathon (IA - 9/18/05) \\tDutchess County Classic Marathon (NY - 9/18/05) \\tLewis & Clark Marathon (MO) (MO - 9/18/05) \\tMaui Marathon (HI - 9/18/05) \\tMontana Governor\\'s Cup Marathon (MT - 9/18/05) \\tNew Forest Marathon ( - 9/18/05) \\tNewfoundland Provincial Marathon (NF - 9/18/05) \\tTreherne Marathon (MB - 9/18/05) \\tTwo Bear Marathon (MT - 9/18/05) \\tYonkers Marathon (NY - 9/18/05) \\tAir Force Marathon (OH - 9/17/05) \\tEquinox Marathon (AK - 9/17/05) \\tNorth Country Trail Run (MI - 9/17/05) \\tRochester Marathon (NY - 9/17/05) \\tShore to Shore Marathon (WA - 9/17/05) \\tTop of Utah Marathon (UT - 9/17/05) \\tWalker/North Country Races (MN - 9/17/05) \\tErie Marathon at Presque Isle (PA - 9/11/05) \\tLake Ainslie Marathon (NS - 9/11/05) \\tMontreal International Marathon (QC - 9/11/05) \\tOil Sands Marathon (AB - 9/11/05) \\tPride of Canada Marathon (ON - 9/11/05) \\tRegina Queen City Marathon (SK - 9/11/05) \\tRobin Hood Marathon ( - 9/11/05) \\tSkagit Flats Marathon (WA - 9/11/05) \\tStowe Marathon (VT - 9/11/05) \\tSydney Marathon ( - 9/11/05) \\tArkansas Marathon (AR - 9/10/05) \\tBismarck Marathon (ND - 9/10/05) \\tLake City Marathon (IN - 9/10/05) \\tMid Mountain Marathon (UT - 9/10/05) \\tSuperior Trail Marathon (MN - 9/10/05) \\tAmerican Discovery Trail Marathon (CO - 9/5/05) \\tHeart of America Marathon (MO - 9/5/05) \\tTurtle Marathon (NM - 9/5/05) \\tBreckenridge Crest Mountain Marathon (CO - 9/4/05) \\tMonster Trail Marathon (NY - 9/4/05) \\tNew Mexico Marathon (NM - 9/4/05) \\tTupelo Marathon (MS - 9/4/05) \\tWolverhampton City Marathon ( - 9/4/05) \\tPocatello Marathon (ID - 9/3/05) \\tAdelaide Festival City Marathon ( - 8/28/05) \\tIowa Trail Marathon (IA - 8/28/05) \\tLongford Marathon ( - 8/28/05) \\tQuebec City Marathon/Marathon des Deux Rives (QC - 8/28/05) \\tHawke\\'s Bay Marathon ( - 8/27/05) \\tMesa Falls Marathon (ID - 8/27/05) \\tRun With the Horses Marathon (WY - 8/27/05) \\tSelf-Transcendence Marathon (NY - 8/25/05) \\tEdmonton Centennial Marathon (AB - 8/21/05) \\tHumpy\\'s Classic Marathon (AK - 8/21/05) \\tMudgee Marathon ( - 8/21/05) \\tPikes Peak Marathon (CO - 8/21/05) \\tSilver State Marathon (NV - 8/21/05) \\tYellowknife Marathon (NT - 8/21/05) \\tGrizzly Marathon (MT - 8/20/05) \\tHaulin\\' Aspen Trail Marathon (OR - 8/14/05) \\tIsle of Man Marathon ( - 8/14/05) \\tLEADING LADIES\\' MARATHON (SD - 8/14/05) \\tWorld Championships Women\\'s Marathon 2005 ( - 8/14/05) \\tCrater Lake Marathon (OR - 8/13/05) \\tPaavo Nurmi Marathon (USA) (WI - 8/13/05) \\tWorld Championships Men\\'s Marathon 2005 ( - 8/13/05) \\tMarathon by the Sea (NB - 8/7/05) \\tTownsville Marathon ( - 8/7/05) \\tYukon River Trail Marathon (YT - 8/7/05) \\tFrank Maier Marathon (AK - 8/6/05) \\tLoop The Lake (BC - 8/6/05) \\tCarrollton Festival of Races (MI - 7/31/05) \\tThe San Francisco Marathon (CA - 7/31/05) \\tGrand Island Trail Marathon (MI - 7/30/05) \\tJay Mountain Marathon (QC - 7/30/05) \\tKilauea Volcano Wilderness Runs (HI - 7/30/05) \\tAround the Lake Marathon (MA - 7/29/05) \\tDeseret Morning News/KJZZ-TV Marathon (UT - 7/25/05) \\tGateway To The Pacific Marathon (WA - 7/24/05) \\tNova Scotia Marathon (NS - 7/24/05) \\tFriendly Massey Marathon (ON - 7/17/05) \\tHalf Voyageur Trail Marathon (MN - 7/16/05) \\tUniversity of Okoboji Marathon (IA - 7/16/05) \\tCalgary Marathon (AB - 7/10/05) \\tPichi Richi Marathon ( - 7/10/05) \\tSEAFAIR Marathon (WA - 7/10/05) \\tGrandfather Mountain Marathon (NC - 7/9/05) \\tKnee Knackering North Shore Trail Run (BC - 7/9/05) \\tKnysna Forest Marathon ( - 7/9/05) \\tFoot Traffic Flat Marathon (OR - 7/4/05) \\tGold Coast Airport Marathon ( - 7/3/05) \\tPerth Marathon ( - 7/3/05) \\tLeadville Trail Marathon (CO - 7/2/05) \\tPacific Crest Marathon (OR - 6/25/05) \\tBlackpool Marathon ( - 6/19/05) \\tEstes Park Marathon (CO - 6/19/05) \\tJohnny Miles Marathon (NS - 6/19/05) \\tKona Marathon (HI - 6/19/05) \\tManitoba Marathon (MB - 6/19/05) \\tTraralgon Marathon ( - 6/19/05) \\tBoogie Marathon (NC - 6/18/05) \\tGrandma\\'s Marathon (MN - 6/18/05) \\tMayor\\'s Marathon (AK - 6/18/05) \\tEdge to Edge Marathon (BC - 6/12/05) \\tEdinburgh Marathon ( - 6/12/05) \\tLake Placid Marathon (NY - 6/12/05) \\tNorth Olympic Discovery Marathon (WA - 6/12/05) \\tSwan Lake Marathon (SD - 6/12/05) \\tFootstock Race Weekend (AB - 6/11/05) \\tHatfield-McCoy Marathon (WV - 6/11/05) \\tMarathon-to-Marathon (IA - 6/11/05) \\tMaryville Marathon, The Chamber Country Classic (MO - 6/11/05) \\tPark City Marathon (UT - 6/11/05) \\tCasper Wyoming Marathon (WY - 6/5/05) \\tCity of Christchurch Marathon ( - 6/5/05) \\tColumbia River Gorge Marathon (OR - 6/5/05) \\tDeadwood-Mickelson Trail Marathon (SD - 6/5/05) \\tNipMuck Trail Marathon (CT - 6/5/05) \\tRock \\'n\\' Roll Marathon (CA - 6/5/05) \\tSan Juan Island Marathon (WA - 6/5/05) \\tSteamboat Marathon (CO - 6/5/05) \\tForest of Nisene Marks Marathon (CA - 6/4/05) \\tGod\\'s Country Marathon (PA - 6/4/05) \\tGovernor\\'s Cup Marathon (MT - 6/4/05) \\tGreen River Marathon (WA - 6/4/05) \\tNewport Marathon (OR - 6/4/05) \\tRidge Runner Races (WV - 6/4/05) \\tSunburst Marathon (IN - 6/4/05) \\tTeton DAM Marathon (ID - 6/4/05) \\tLakeshore Marathon (IL - 5/30/05) \\tBuffalo Marathon (NY - 5/29/05) \\tCoeur d\\' Alene Marathon (ID - 5/29/05) \\tMadison Marathon (Mad City Marathon) (WI - 5/29/05) \\tMed-City Marathon (MN - 5/29/05) \\tOttawa Marathon (National Capital Race Weekend) (ON - 5/29/05) \\tSaskatchewan Marathon (SK - 5/29/05) \\tVermont City Marathon (VT - 5/29/05) \\tWickham Park Marathon (FL - 5/29/05) \\tWyoming Marathon (WY - 5/29/05) \\tAndy Payne Marathon (OK - 5/28/05) \\tBayshore Marathon (MI - 5/28/05) \\tNAIA Marathon Championships - Men (IN - 5/28/05) \\tNAIA Marathon Championships - Women (IN - 5/28/05) \\tPrince of Wales Island International Marathon (AK - 5/28/05) \\tBlue Nose International Marathon (NS - 5/22/05) \\tCleveland Marathon (OH - 5/22/05) \\tGreen Bay Marathon (WI - 5/22/05) \\tPeach City Marathon (BC - 5/22/05) \\tRed Deer Marathon (AB - 5/22/05) \\tOgden Marathon (UT - 5/21/05) \\tOlathe Marathon (KS - 5/21/05) \\tCapital City Marathon (WA - 5/15/05) \\tCentral States Marathon (IA - 5/15/05) \\tDelaware Marathon (DE - 5/15/05) \\tHalstead Marathon ( - 5/15/05) \\tMississauga Marathon (ON - 5/15/05) \\tSugarloaf Marathon (ME - 5/15/05) \\tBrookings Marathon (SD - 5/14/05) \\tFargo Marathon (ND - 5/14/05) \\tIdaho Great Potato Marathon (ID - 5/14/05) \\tJourneys Marathon (WI - 5/14/05) \\tPalos Verdes Marathon (CA - 5/14/05) \\tWaterfalls of Big Basin (CA - 5/14/05) \\tColorado Marathon (prev. Fort Collins Old Town Marathon) (CO - 5/8/05) \\tForest City Road Races Marathon (ON - 5/8/05) \\tFredericton Marathon (NB - 5/8/05) \\tLake Geneva Marathon (WI - 5/7/05) \\tMoab Marathon (UT - 5/7/05) \\tRotorua Marathon ( - 5/7/05) \\tBelfast City Marathon ( - 5/2/05) \\tAvenue of the Giants Marathon (CA - 5/1/05) \\tCincinnati Flying Pig Marathon (OH - 5/1/05) \\tFrederick Marathon (MD - 5/1/05) \\tLincoln Marathon (NE - 5/1/05) \\tLong Island Marathon (NY - 5/1/05) \\tPotomac River Run Marathon (MD - 5/1/05) \\tRace of Champions Marathon (MA - 5/1/05) \\tVancouver International Marathon (BC - 5/1/05) \\tCanton-St. Lawrence University Marathon (NY - 4/30/05) \\tCountry Music Marathon (TN - 4/30/05) \\tKentucky Derby Festival Marathon (KY - 4/30/05) \\tShiprock Marathon (NM - 4/30/05) \\tTrestle Valley Marathon (ND - 4/30/05) \\tTriple Crown Trail Marathon (DE - 4/30/05) \\tWhiskey Row Marathon (AZ - 4/30/05) \\tBig Sur International Marathon (CA - 4/24/05) \\tLest We Forget Marathon ( - 4/24/05) \\tOklahoma City Memorial Marathon (OK - 4/24/05) \\tShakespeare Marathon ( - 4/24/05) \\tSt. John Ambulance Marathon (ON - 4/24/05) \\tTrail Marathon (MI - 4/24/05) \\tPine Line Trail Marathon (WI - 4/23/05) \\tSalt Lake City Marathon (UT - 4/23/05) \\tBoston Marathon (MA - 4/18/05) \\tGermany to France Marathon (IN - 4/17/05) \\tLondon Marathon ( - 4/17/05) \\tNew Jersey Marathon (NJ - 4/17/05) \\tCharlottesville Marathon (VA - 4/16/05) \\tDiablo Marathon & 50 mile Endurance Run (CA - 4/16/05) \\tMuir Woods Trail Marathon (CA - 4/16/05) \\tOcean City, MD Marathon (MD - 4/16/05) \\tWenatchee Marathon (WA - 4/16/05) \\tAthens Marathon (Ohio) (OH - 4/10/05) \\tCanberra Marathon ( - 4/10/05) \\tGlass City Marathon (OH - 4/10/05) \\tGO! St. Louis Marathon (MO - 4/10/05) \\tMore Marathon (NY - 4/10/05) \\tOhio River Road Runners Club Marathon (OH - 4/10/05) \\tWhidbey Island Marathon (WA - 4/10/05) \\tNapa Valley Trail Marathon (CA - 4/9/05) \\tBig-D Texas Marathon (TX - 4/3/05) \\tGuam Marathon ( - 4/3/05) \\tHogeye Marathon (AR - 4/3/05) \\tAndrew Jackson Marathon (TN - 4/2/05) \\tEisenhower Marathon (KS - 4/2/05) \\tGolden Gate Marathon (CA - 4/2/05) \\tRockin K Trail Marathon (KS - 4/2/05) \\tYakima River Canyon Marathon (WA - 4/2/05) \\tMaraton Internacional Pampa Traviesa ( - 3/27/05) \\tEaster Marathon Runoff (WA - 3/26/05) \\tFrisco High Line Marathon (MO - 3/26/05) \\tGrasslands Trail Run Marathon (TX - 3/26/05) \\tGreat Southwest Marathon (TX - 3/26/05) \\tTri-State Marathon (UT - 3/26/05) \\tBataan Memorial Death March (NM - 3/20/05) \\tBig Island International Marathon (HI - 3/20/05) \\tKnoxville Marathon (TN - 3/20/05) \\tOcean Drive Marathon (NJ - 3/20/05) \\tSeabrook Lucky Trail Marathon (TX - 3/20/05) \\tCatalina Marathon (CA - 3/19/05) \\tCherry Blossom Festival Marathon (GA - 3/19/05) \\tEllerbe Springs Marathon (NC - 3/19/05) \\tMartian Marathon (MI - 3/19/05) \\tShamrock Sportsfest Marathon (VA - 3/19/05) \\tValley of the Sun Marathon (AZ - 3/13/05) \\tVirginia Creeper Marathon (VA - 3/13/05) \\tB&A Trail Marathon (MD - 3/6/05) \\tCayman Islands Marathon ( - 3/6/05) \\tCity of Los Angeles Marathon (L.A. Marathon) (CA - 3/6/05) \\tLittle Rock Marathon (AR - 3/6/05) \\tLower Potomac River Marathon (MD - 3/6/05) \\tNapa Valley Marathon (CA - 3/6/05) \\tGreenway Trail Marathon (MD - 3/5/05) \\tNew Plymouth Marathon ( - 3/5/05) \\tPalo Alto Vista Trail Run (CA - 3/5/05) \\tUmstead Trail Marathon (NC - 3/5/05) \\tBlack Mountain Marathon (NC - 2/28/05) \\tHong Kong Marathon ( - 2/27/05) \\tHudson Mohawk Marathon (NY - 2/27/05) \\tHyannis Marathon (MA - 2/27/05) \\tNew Orleans Mardi Gras Marathon (LA - 2/27/05) \\tAntarctica Marathon ( - 2/26/05) \\tCowtown Marathon (TX - 2/26/05) \\t\"Last Chance for Boston\" Marathon (OH - 2/20/05) \\tDesert Classic Marathon (AZ - 2/20/05) \\tPensacola Marathon (FL - 2/20/05) \\tTallahassee Marathon (FL - 2/20/05) \\tWashington\\'s Birthday Marathon (MD - 2/20/05) \\tBirch Bay Marathon (WA - 2/19/05) \\tMyrtle Beach Marathon (SC - 2/19/05) \\tSan Miguel Buzz Marathon (CA - 2/19/05) \\tAustin Marathon (TX - 2/13/05) \\tMercedes Marathon (AL - 2/13/05) \\tValentine Marathon (WA - 2/13/05) \\tBuller Marathon ( - 2/12/05) \\tSurfside Beach Marathon (TX - 2/12/05) \\tGasparilla Distance Classic (FL - 2/6/05) \\tSurf City Marathon (prev. Pacific Shoreline Marathon) (CA - 2/6/05) \\tDeath Valley Trail Marathon (CA - 2/5/05) \\tTybee Marathon (GA - 2/5/05) \\tTrailbreaker Marathon (WI - 2/1/05) \\tCallaway Gardens Marathon (GA - 1/30/05) \\tChina Coast Marathon ( - 1/30/05) \\tLas Vegas International Marathon (NV - 1/30/05) \\tMiami Marathon (FL - 1/30/05) \\tOcala Marathon (FL - 1/30/05) \\tFlorida Gulf Beaches Marathon (FL - 1/23/05) \\tMaratÃ³n del Desierto ( - 1/22/05) \\tOrlando Xtreme Marathon (FL - 1/22/05) \\tBermuda Marathon ( - 1/16/05) \\tCarlsbad Marathon (CA - 1/16/05) \\tHouston Marathon (TX - 1/16/05) \\tLost Dutchman Marathon (AZ - 1/16/05) \\tMississippi Marathon (MS - 1/15/05) \\tMuseum of Aviation Foundation Marathon (GA - 1/15/05) \\tCadbury Glass Marathon ( - 1/9/05) \\tDisney World Marathon (FL - 1/9/05) \\tRock \\'n\\' Roll Arizona Marathon (AZ - 1/9/05) \\tFirst Light Marathon (AL - 1/2/05) \\tRedding Marathon (CA - 1/1/05) \\tTexas Marathon (TX - 1/1/05)'"
      ]
     },
     "execution_count": 9,
     "metadata": {},
     "output_type": "execute_result"
    }
   ],
   "source": [
    "page_df = pd.read_html(\"https://www.marathonguide.com/results/browse.cfm?Year=2005\")\n",
    "\n",
    "page_df[6][0][0]"
   ]
  }
 ],
 "metadata": {
  "kernelspec": {
   "display_name": "PythonData2",
   "language": "python",
   "name": "pythondata2"
  },
  "language_info": {
   "codemirror_mode": {
    "name": "ipython",
    "version": 3
   },
   "file_extension": ".py",
   "mimetype": "text/x-python",
   "name": "python",
   "nbconvert_exporter": "python",
   "pygments_lexer": "ipython3",
   "version": "3.11.5"
  },
  "orig_nbformat": 4
 },
 "nbformat": 4,
 "nbformat_minor": 2
}
